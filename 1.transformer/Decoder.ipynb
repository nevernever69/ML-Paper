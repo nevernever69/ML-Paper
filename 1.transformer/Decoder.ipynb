{
  "nbformat": 4,
  "nbformat_minor": 0,
  "metadata": {
    "colab": {
      "provenance": []
    },
    "kernelspec": {
      "name": "python3",
      "display_name": "Python 3"
    },
    "language_info": {
      "name": "python"
    }
  },
  "cells": [
    {
      "cell_type": "code",
      "execution_count": null,
      "metadata": {
        "id": "ES4OA35pwxWS"
      },
      "outputs": [],
      "source": [
        "import torch\n",
        "import torch.nn.functional as F\n",
        "import torch.nn as nn"
      ]
    },
    {
      "cell_type": "code",
      "source": [
        "## Positional encoding skip it if you want to move to action directly\n",
        "\n",
        "class PositionalEncoding(nn.Module):\n",
        "  def __init__(self,d_model, max_sequence_length):\n",
        "      super(PositionalEncoding, self).__init__()\n",
        "\n",
        "      self.encoding = torch.zeros(0, max_sequence_length, d_model)\n",
        "      self.encoding.requires_grad = False\n",
        "\n",
        "      pos = torch.arange(0, max_sequence_length)\n",
        "      pos = pos.float().unsqueeze(dim=1)\n",
        "\n",
        "      _2i = torch.arange(0, d_model, step=2).float()\n",
        "\n",
        "      self.encoding[:, 0::2] = torch.sin(pos/(1000**(_2i/d_model)))\n",
        "      self.encoding[:, 1::2] = torch.cos(pos/(1000**(_2i/d_model)))\n",
        "  def forward(self, x):\n",
        "    batch_size, seq_len = x.size()\n",
        "    return self.encoding[:seq_len, :3]"
      ],
      "metadata": {
        "id": "Wqs4uwUV-0OI"
      },
      "execution_count": null,
      "outputs": []
    },
    {
      "cell_type": "code",
      "source": [
        "class ScaledDotProduct(nn.Module):\n",
        "  def __init__(self):\n",
        "    super(ScaledDotProduct, self).__init__()\n",
        "    self.softmax = nn.Softmax(dim=-1)\n",
        "  def forward(self, q, k, v, mask=None):\n",
        "    d_k = q.size()\n",
        "    scaled = torch.matmul(q, k.transpose(-1, -2) / math.sqrt(d_k)) # 30,8, 200, 200\n",
        "    if mask is not None:\n",
        "      scaled += mask\n",
        "    attention = self.softmax(scaled) # 30, 200, 64\n",
        "    values = torch.matmul(attention, v)\n",
        "    return values, attention"
      ],
      "metadata": {
        "id": "HVlqI-J18nbZ"
      },
      "execution_count": null,
      "outputs": []
    },
    {
      "cell_type": "code",
      "source": [
        "## multi head attention same as decoder one and this will also be used as cross attention by just adding input of k,v of decoder\n",
        "\n",
        "class MultiHeadAttention(nn.Module):\n",
        "  def __init__(self, d_model, n_head):\n",
        "    super(MultiHeadAttention,self).__init__()\n",
        "    self.n_head = n_head\n",
        "    self.attention = ScaledDotProduct()\n",
        "    # self.qkv_layer = nn.Linear(d_model, 3*d_model)\n",
        "    self.w_q = nn.Linear(d_model, d_model)\n",
        "    self.w_k = nn.Linear(d_model, d_model)\n",
        "    self.w_v = nn.Linear(d_model, d_model)\n",
        "    self.w_concat = nn.Linear(d_model, d_model)\n",
        "\n",
        "  def forward(self, q, k, v, mask=None):\n",
        "    q, k, v = self.w_q(q), self.w_k(k), self.w_v(v)\n",
        "    q, k, v = self.split(q), self.split(k), self.split(v)\n",
        "    out, attention = self.attention(q, k, v, mask=mask)\n",
        "\n",
        "    out = self.concat(out)\n",
        "    out = self.w_concat(out)\n",
        "    return out\n",
        "\n",
        "  def split(self, tensor):\n",
        "    batch_size, length, d_model = tensor.size()\n",
        "    d_tensor = d_model // self.n_head  # we have to give every head d_tensor or (q, k, v)\n",
        "    tensor = tensor.view(batch_size, length, self.n_heads, d_tensor).transpos(1,2)\n",
        "    return tensor\n",
        "\n",
        "  def concat(self, tensor):\n",
        "    batch_size, head, length, d_tensor = tensor.size()\n",
        "    d_model = head * d_tensor\n",
        "    tensor = tensor.transpose(1,2).contiguous().view(batch_size, length, d_model)\n",
        "    return tensor"
      ],
      "metadata": {
        "id": "xM0PZl4udQf2"
      },
      "execution_count": null,
      "outputs": []
    },
    {
      "cell_type": "code",
      "source": [
        "## feedforward neural network\n",
        "\n",
        "class PositionwiseFeedForward(nn.Module):\n",
        "  def __init__(self, d_model, hidden, drop_prob = 0.1):\n",
        "    super(PositionwiseFeedForward, self).__init__()\n",
        "    self.linear1 = nn.Linear(d_model, hidden)\n",
        "    self.relu = nn.Relu()\n",
        "    self.linear2 = nn.Linear(hidden, d_model)\n",
        "    self.dropout = nn.Dropout(p = drop_prob)\n",
        "\n",
        "  def forward(self, x):\n",
        "    x = self.linear1(x)\n",
        "    x = self.relu(x)\n",
        "    x = self.dropout(x)\n",
        "    x = self.linear2(x)\n",
        "    return x"
      ],
      "metadata": {
        "id": "oEZW-IELvlq7"
      },
      "execution_count": null,
      "outputs": []
    },
    {
      "cell_type": "code",
      "source": [
        "# layer normalization\n",
        "\n",
        "class LayerNormalization(nn.Module):\n",
        "    def __init__(self, parameters_shape, eps=1e-5):\n",
        "        super(LayerNormalization, self).__init__()\n",
        "        self.parameters_shape=parameters_shape\n",
        "        self.eps=eps\n",
        "        self.gamma = nn.Parameter(torch.ones(parameters_shape)) # 512\n",
        "        self.beta =  nn.Parameter(torch.zeros(parameters_shape)) # 512\n",
        "\n",
        "    def forward(self, inputs):\n",
        "        dims = [-(i + 1) for i in range(len(self.parameters_shape))]\n",
        "        print(f\"dims: {dims}\")\n",
        "        mean = inputs.mean(dim=dims, keepdim=True)\n",
        "        print(f\"Mean ({mean.size()})\")\n",
        "        var = ((inputs - mean) ** 2).mean(dim=dims, keepdim=True)\n",
        "        std = (var + self.eps).sqrt()\n",
        "        print(f\"Standard Deviation  ({std.size()})\")\n",
        "        y = (inputs - mean) / std\n",
        "        print(f\"y: {y.size()}\")\n",
        "        out = self.gamma * y  + self.beta\n",
        "        print(f\"out: {out.size()}\")\n",
        "        return out"
      ],
      "metadata": {
        "id": "0k_2MzzuayCi"
      },
      "execution_count": null,
      "outputs": []
    }
  ]
}