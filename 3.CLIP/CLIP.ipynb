{
  "cells": [
    {
      "cell_type": "markdown",
      "source": [
        "## Simplest code to implement From scratch in pytorch\n",
        "\n",
        "\n",
        "![image.png](data:image/png;base64,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)"
      ],
      "metadata": {
        "id": "ne13dF79YQ6f"
      }
    },
    {
      "cell_type": "code",
      "execution_count": null,
      "metadata": {
        "id": "kLGMCw1r3Jc2"
      },
      "outputs": [],
      "source": [
        "import torch\n",
        "import math\n",
        "from torch import nn\n",
        "import torch.nn.functional as F"
      ]
    },
    {
      "cell_type": "code",
      "execution_count": null,
      "metadata": {
        "id": "9pCwscNKpRH0"
      },
      "outputs": [],
      "source": [
        "\n",
        "class AttentionHead(nn.Module):\n",
        "    \"\"\"\n",
        "    A single attention head.\n",
        "    This module is used in the MultiHeadAttention module.\n",
        "\n",
        "    \"\"\"\n",
        "    def __init__(self, hidden_size, attention_head_size, dropout, bias=True):\n",
        "        super().__init__()\n",
        "        self.hidden_size = hidden_size\n",
        "        self.attention_head_size = attention_head_size\n",
        "        # Create the query, key, and value projection layers\n",
        "        self.query = nn.Linear(hidden_size, attention_head_size, bias=bias)\n",
        "        self.key = nn.Linear(hidden_size, attention_head_size, bias=bias)\n",
        "        self.value = nn.Linear(hidden_size, attention_head_size, bias=bias)\n",
        "\n",
        "        self.dropout = nn.Dropout(dropout)\n",
        "\n",
        "    def forward(self, x):\n",
        "        # Project the input into query, key, and value\n",
        "        # The same input is used to generate the query, key, and value,\n",
        "        # so it's usually called self-attention.\n",
        "        # (batch_size, sequence_length, hidden_size) -> (batch_size, sequence_length, attention_head_size)\n",
        "        query = self.query(x)\n",
        "        key = self.key(x)\n",
        "        value = self.value(x)\n",
        "        # Calculate the attention scores\n",
        "        # softmax(Q*K.T/sqrt(head_size))*V\n",
        "        attention_scores = torch.matmul(query, key.transpose(-1, -2))\n",
        "        attention_scores = attention_scores / math.sqrt(self.attention_head_size)\n",
        "        attention_probs = nn.functional.softmax(attention_scores, dim=-1)\n",
        "        attention_probs = self.dropout(attention_probs)\n",
        "        # Calculate the attention output\n",
        "        attention_output = torch.matmul(attention_probs, value)\n",
        "        return (attention_output, attention_probs)\n"
      ]
    },
    {
      "cell_type": "code",
      "execution_count": null,
      "metadata": {
        "id": "M6UkN_06TSbg"
      },
      "outputs": [],
      "source": [
        "class ScaledDotProduct(nn.Module):\n",
        "  def __init__(self):\n",
        "    super(ScaledDotProduct, self).__init__()\n",
        "    self.softmax = nn.Softmax(dim=-1)\n",
        "\n",
        "  def forward(self, q, k, v, mask, dropout: nn.Dropout):\n",
        "    d_k = q.shape[-1]\n",
        "    # Fixed the order of operations\n",
        "    scaled = torch.matmul(q, k.transpose(-1, -2)) / math.sqrt(d_k)\n",
        "    if mask is not None:\n",
        "        scaled.masked_fill_(mask == 0, -1e9)\n",
        "\n",
        "    attention = self.softmax(scaled)\n",
        "    if dropout is not None:\n",
        "        attention = dropout(attention)\n",
        "    values = torch.matmul(attention, v)\n",
        "    return values, attention"
      ]
    },
    {
      "cell_type": "code",
      "execution_count": null,
      "metadata": {
        "id": "4brdsUTLYJKf"
      },
      "outputs": [],
      "source": [
        "class MultiHeadAttention(nn.Module):\n",
        "    def __init__(self, d_model, n_heads, drop_prob = 0.0, hidden_drop_prob = 0.0):\n",
        "        super().__init__()\n",
        "        # Extract parameters from config\n",
        "        self.d_model = d_model\n",
        "        assert d_model % n_heads == 0, \"d_model must be divisible by h\"\n",
        "        self.d_k = d_model // n_heads\n",
        "        self.n_heads = n_heads\n",
        "        bias = True\n",
        "\n",
        "        # Initialize projection layers\n",
        "        self.w_q = nn.Linear(self.d_model, self.d_model, bias=bias)\n",
        "        self.w_k = nn.Linear(self.d_model, self.d_model, bias=bias)\n",
        "        self.w_v = nn.Linear(self.d_model, self.d_model, bias=bias)\n",
        "        self.w_o = nn.Linear(self.d_model, self.d_model, bias=bias)\n",
        "\n",
        "        # Initialize attention mechanism (assumed to be defined elsewhere)\n",
        "        self.attention = ScaledDotProduct()\n",
        "\n",
        "        # Initialize dropout layers\n",
        "        self.attention_dropout = nn.Dropout(drop_prob)\n",
        "        self.output_dropout = nn.Dropout(hidden_drop_prob)\n",
        "\n",
        "    def forward(self, x, mask=None,output_attentions=False):\n",
        "        # Self-attention: q = k = v = x\n",
        "\n",
        "        q = k = v = x\n",
        "        #mask = None  # No mask, as per ViT implementation\n",
        "\n",
        "        # Project inputs\n",
        "        query = self.w_q(q)\n",
        "        key = self.w_k(k)\n",
        "        value = self.w_v(v)\n",
        "\n",
        "        # Reshape and transpose for multi-head attention\n",
        "        query = query.view(query.shape[0], query.shape[1], self.n_heads, self.d_k).transpose(1, 2)\n",
        "        key = key.view(key.shape[0], key.shape[1], self.n_heads, self.d_k).transpose(1, 2)\n",
        "        value = value.view(value.shape[0], value.shape[1], self.n_heads, self.d_k).transpose(1, 2)\n",
        "\n",
        "        # Compute attention\n",
        "        x, attention_scores = self.attention(query, key, value, mask, self.attention_dropout)\n",
        "\n",
        "        # Reshape output\n",
        "        x = x.transpose(1, 2).contiguous().view(x.shape[0], -1, self.n_heads * self.d_k)\n",
        "\n",
        "        # Apply output projection and dropout\n",
        "        output = self.w_o(x)\n",
        "        output = self.output_dropout(output)\n",
        "\n",
        "        # Return outputs\n",
        "        # return (output, attention_scores if output_attentions else None)\n",
        "        if output_attentions:\n",
        "            return output, attention_scores  # Return both output and attention scores\n",
        "        else:\n",
        "            return output, None  # Return None for attention scores"
      ]
    },
    {
      "cell_type": "code",
      "source": [
        "class PostionalEncoding(nn.Module):\n",
        "  def __init__(self, d_model, max_seq_length):\n",
        "    super().__init__()\n",
        "    self.d_model = d_model\n",
        "    self.max_seq_length = max_seq_length\n",
        "\n",
        "    pe = torch.zeros(max_seq_length, d_model)\n",
        "    position = torch.arange(0, max_seq_length, dtype=torch.float).unsqueeze(1)\n",
        "    div_term = torch.exp(torch.arange(0, d_model, 2).float() * (-np.log(10000.0)/d_model))\n",
        "\n",
        "    pe[:, 0::2] = torch.sin(position * div_term)\n",
        "    pe[:, 1::2] = torch.cos(position * div_term)\n",
        "\n",
        "    self.register_buffer('pe', pe.unsqueeze(0))\n",
        "\n",
        "  def forward(self, x):\n",
        "    seq_len = x.size(1)\n",
        "    return x + self.pe[:, :seq_len]\n"
      ],
      "metadata": {
        "id": "9OY9K4L36xxh"
      },
      "execution_count": null,
      "outputs": []
    },
    {
      "cell_type": "code",
      "execution_count": null,
      "metadata": {
        "id": "Vh3J0hMSnjWw"
      },
      "outputs": [],
      "source": [
        "class NewGELUActivation(nn.Module):\n",
        "    def forward(self, input):\n",
        "        return 0.5 * input * (1.0 + torch.tanh(math.sqrt(2.0 / math.pi) * (input + 0.044715 * torch.pow(input, 3.0))))"
      ]
    },
    {
      "cell_type": "code",
      "execution_count": null,
      "metadata": {
        "id": "GAKXPzGQPHAy"
      },
      "outputs": [],
      "source": [
        "class MLP(nn.Module):\n",
        "    \"\"\"\n",
        "    A multi-layer perceptron module.\n",
        "    \"\"\"\n",
        "\n",
        "    def __init__(self, d_model, mlp_ratio=4, hidden_drop_prob = 0.0):\n",
        "        super().__init__()\n",
        "        self.intermediate_size = mlp_ratio * d_model\n",
        "        self.dense_1 = nn.Linear(d_model, self.intermediate_size)\n",
        "        self.activation = NewGELUActivation()\n",
        "        self.dense_2 = nn.Linear(self.intermediate_size, d_model)\n",
        "        self.dropout = nn.Dropout(hidden_drop_prob)\n",
        "\n",
        "    def forward(self, x):\n",
        "        x = self.dense_1(x)\n",
        "        x = self.activation(x)\n",
        "        x = self.dense_2(x)\n",
        "        x = self.dropout(x)\n",
        "        return x\n"
      ]
    },
    {
      "cell_type": "code",
      "execution_count": null,
      "metadata": {
        "id": "MdYXahfQoYq9"
      },
      "outputs": [],
      "source": [
        "class PatchEmbeddings(nn.Module):\n",
        "    \"\"\"\n",
        "    Convert the image into patches and then project them into a vector space.\n",
        "    \"\"\"\n",
        "\n",
        "    def __init__(self, d_model, img_size, patch_size, n_channels):\n",
        "        super().__init__()\n",
        "        self.image_size = img_size\n",
        "        self.patch_size = patch_size\n",
        "        self.num_channels = n_channels\n",
        "        self.hidden_size = d_model\n",
        "        self.num_patches = (img_size[0] * img_size[1] ) // (patch_size[0] * patch_size[1])\n",
        "        # Calculate the number of patches from the image size and patch size\n",
        "        #self.num_patches = (self.image_size // self.patch_size) ** 2\n",
        "        print(f\"Number of patches: {self.num_patches}, Expected tokens with CLS: {self.num_patches + 1}\")\n",
        "\n",
        "        # Create a projection layer to convert the image into patches\n",
        "        # The layer projects each patch into a vector of size hidden_size\n",
        "        self.projection = nn.Conv2d(self.num_channels, self.hidden_size, kernel_size=self.patch_size, stride=self.patch_size)\n",
        "\n",
        "    def forward(self, x):\n",
        "        # (batch_size, num_channels, image_size, image_size) -> (batch_size, num_patches, hidden_size)\n",
        "        x = self.projection(x)\n",
        "        x = x.flatten(2).transpose(1, 2)\n",
        "        return x\n"
      ]
    },
    {
      "cell_type": "code",
      "execution_count": null,
      "metadata": {
        "id": "XKBH2_t9n556"
      },
      "outputs": [],
      "source": [
        "\n",
        "class Embeddings(nn.Module):\n",
        "    \"\"\"\n",
        "    Combine the patch embeddings with the class token and position embeddings.\n",
        "    \"\"\"\n",
        "\n",
        "    def __init__(self, d_model, img_size, patch_size, n_channels, hidden_drop_prob=0.0):\n",
        "        super().__init__()\n",
        "\n",
        "        self.patch_embeddings = PatchEmbeddings(d_model, img_size, patch_size, n_channels)\n",
        "        # Create a learnable [CLS] token\n",
        "        # Similar to BERT, the [CLS] token is added to the beginning of the input sequence\n",
        "        # and is used to classify the entire sequence\n",
        "        self.cls_token = nn.Parameter(torch.randn(1, 1, d_model))\n",
        "        # Create position embeddings for the [CLS] token and the patch embeddings\n",
        "        # Add 1 to the sequence length for the [CLS] token\n",
        "        self.position_embeddings = \\\n",
        "            nn.Parameter(torch.randn(1, self.patch_embeddings.num_patches + 1, d_model))\n",
        "        self.dropout = nn.Dropout(hidden_drop_prob)\n",
        "\n",
        "    def forward(self, x):\n",
        "        x = self.patch_embeddings(x)\n",
        "        batch_size, _, _ = x.size()\n",
        "        # Expand the [CLS] token to the batch size\n",
        "        # (1, 1, hidden_size) -> (batch_size, 1, hidden_size)\n",
        "        cls_tokens = self.cls_token.expand(batch_size, -1, -1)\n",
        "        # Concatenate the [CLS] token to the beginning of the input sequence\n",
        "        # This results in a sequence length of (num_patches + 1)\n",
        "        x = torch.cat((cls_tokens, x), dim=1)\n",
        "        x = x + self.position_embeddings\n",
        "        x = self.dropout(x)\n",
        "        return x"
      ]
    },
    {
      "cell_type": "code",
      "execution_count": null,
      "metadata": {
        "id": "w5ySvDhCPR_w"
      },
      "outputs": [],
      "source": [
        "\n",
        "class Block(nn.Module):\n",
        "    \"\"\"\n",
        "    A single transformer block.\n",
        "    \"\"\"\n",
        "\n",
        "    def __init__(self, d_model, n_heads):\n",
        "        super().__init__()\n",
        "        self.d_model = d_model\n",
        "        self.n_heads = n_heads\n",
        "        self.attention = MultiHeadAttention(d_model, n_heads)\n",
        "        self.layernorm_1 = nn.LayerNorm(d_model)\n",
        "        self.mlp = MLP(d_model)\n",
        "        self.layernorm_2 = nn.LayerNorm(d_model)\n",
        "\n",
        "    def forward(self, x, output_attentions=False):\n",
        "        # Self-attention\n",
        "        attention_output, attention_probs = \\\n",
        "            self.attention(self.layernorm_1(x), output_attentions=output_attentions)\n",
        "\n",
        "        # Skip connection\n",
        "        x = x + attention_output\n",
        "        # Feed-forward network\n",
        "        mlp_output = self.mlp(self.layernorm_2(x))\n",
        "        # Skip connection\n",
        "        x = x + mlp_output\n",
        "        # if output_attentions:\n",
        "        #     return (x, attention_probs)\n",
        "        # else:\n",
        "        #     return (x, None)  # Return None for attention scores when not requested\n",
        "        return x"
      ]
    },
    {
      "cell_type": "code",
      "execution_count": null,
      "metadata": {
        "id": "n--AANUYnOkW"
      },
      "outputs": [],
      "source": [
        "class Encoder(nn.Module):\n",
        "    \"\"\"\n",
        "    The transformer encoder module.\n",
        "    \"\"\"\n",
        "\n",
        "    def __init__(self, d_model, n_heads, n_layers):\n",
        "        super().__init__()\n",
        "        # Create a list of transformer blocks\n",
        "        self.d_model = d_model\n",
        "        self.n_heads = n_heads\n",
        "        self.n_layers = n_layers\n",
        "        self.blocks = nn.ModuleList([])\n",
        "        for _ in range(n_layers):\n",
        "            block = Block(d_model, n_heads)\n",
        "            self.blocks.append(block)\n",
        "\n",
        "    def forward(self, x, output_attentions=False):\n",
        "        # Calculate the transformer block's output for each block\n",
        "        all_attentions = []\n",
        "        for block in self.blocks:\n",
        "            x = block(x, output_attentions=output_attentions)\n",
        "            # if output_attentions:\n",
        "            #     all_attentions.append(attention_probs)\n",
        "        # Return the encoder's output and the attention probabilities (optional)\n",
        "        # if not output_attentions:\n",
        "        #     return (x, None)\n",
        "        # else:\n",
        "        #     return (x, all_attentions)\n",
        "        return x"
      ]
    },
    {
      "cell_type": "code",
      "execution_count": null,
      "metadata": {
        "id": "_10av9wIntk5"
      },
      "outputs": [],
      "source": [
        "class VisionEncoder(nn.Module):\n",
        "    \"\"\"\n",
        "    The ViT model for classification.\n",
        "    \"\"\"\n",
        "\n",
        "    def __init__(self,d_model,img_size,patch_size, n_channels, n_heads,n_layers, emb_dim):\n",
        "        super().__init__()\n",
        "\n",
        "        self.image_size = img_size\n",
        "        self.emb_dim = emb_dim\n",
        "        self.hidden_size = d_model\n",
        "        self.n_channels = n_channels\n",
        "        self.n_layers = n_layers\n",
        "        self.patch_size = patch_size\n",
        "        self.img_size = img_size\n",
        "        # Create the embedding module\n",
        "        self.embedding = Embeddings(d_model, img_size, patch_size, n_channels)\n",
        "        # Create the transformer encoder module\n",
        "        self.encoder = Encoder(d_model, n_heads, n_layers)\n",
        "        self.ln_final = nn.LayerNorm(d_model)\n",
        "\n",
        "        # Create a linear layer to project the encoder's output to the number of classes\n",
        "        self.projection = nn.Parameter(torch.randn(self.hidden_size, self.emb_dim))\n",
        "        # Initialize the weights\n",
        "\n",
        "\n",
        "    def forward(self, x, output_attentions=False):\n",
        "        # Calculate the embedding output\n",
        "        embedding_output = self.embedding(x)\n",
        "        # Calculate the encoder's output\n",
        "        encoder_outputs = self.encoder(embedding_output, output_attentions=output_attentions)\n",
        "        # Calculate the logits, take the [CLS] token's output as features for classification\n",
        "        encoder_output = self.ln_final(encoder_outputs)\n",
        "        pooled_output = encoder_output[:, 0]\n",
        "\n",
        "        #logits = encoder_output[:, 0]\n",
        "        # Return the logits and the attention probabilities (optional)\n",
        "        if self.projection is not None:\n",
        "            pooled_output = pooled_output @ self.projection\n",
        "\n",
        "        # Normalize for contrastive learning\n",
        "        pooled_output = pooled_output / torch.norm(pooled_output, dim=-1, keepdim=True)\n",
        "\n",
        "        # if not output_attentions:\n",
        "        return pooled_output\n",
        "        # else:\n",
        "        #     return pooled_output, all_attentions\n",
        "\n",
        "\n"
      ]
    },
    {
      "cell_type": "code",
      "source": [
        "def tokenizer(text, encode=True, mask=None, max_seq_length=32):\n",
        "    if encode:\n",
        "        # Adding SOT and EOT tokens\n",
        "        out = chr(2) + text + chr(3)\n",
        "\n",
        "        # Truncate if length exceeds max_seq_length\n",
        "        if len(out) > max_seq_length:\n",
        "            out = out[:max_seq_length]\n",
        "\n",
        "        # Add padding if needed\n",
        "        out = out + \"\".join([chr(0) for _ in range(max_seq_length - len(out))])\n",
        "\n",
        "        # Encode the text\n",
        "        out = torch.IntTensor(list(out.encode(\"utf-8\")))\n",
        "\n",
        "        # Create the mask\n",
        "        mask = torch.ones(len(out.nonzero()))\n",
        "\n",
        "        # Pad the mask to max_seq_length\n",
        "        if len(mask) < max_seq_length:\n",
        "            mask = torch.cat((mask, torch.zeros(max_seq_length - len(mask)))).type(torch.IntTensor)\n",
        "        else:\n",
        "            mask = mask.type(torch.IntTensor)\n",
        "    else:\n",
        "        # Decode the text\n",
        "        out = [chr(x) for x in text[1:len(mask.nonzero()) - 1]]\n",
        "        out = \"\".join(out)\n",
        "        mask = None\n",
        "\n",
        "    return out, mask"
      ],
      "metadata": {
        "id": "-1KddDfgv8kF"
      },
      "execution_count": null,
      "outputs": []
    },
    {
      "cell_type": "code",
      "source": [
        "class TextEncoder(nn.Module):\n",
        "  def __init__(self, vocab_size, d_model, max_seq_length, n_layers,n_heads, emb_dim):\n",
        "      super().__init__()\n",
        "\n",
        "      self.max_seq_length = max_seq_length\n",
        "\n",
        "      self.embed = nn.Embedding(vocab_size, d_model)\n",
        "\n",
        "      self.positional_embedding = PostionalEncoding(d_model, max_seq_length)\n",
        "\n",
        "      self.transformer_encoder = nn.ModuleList([Block(d_model, n_heads) for _ in range(n_layers)])\n",
        "\n",
        "      self.projection = nn.Parameter(torch.randn(d_model, emb_dim))\n",
        "\n",
        "   # For training\n",
        "  def forward(self, text, mask = None):\n",
        "\n",
        "      x = self.embed(text)\n",
        "\n",
        "      x = self.positional_embedding(x)\n",
        "\n",
        "      for encoder_layer in self.transformer_encoder:\n",
        "          x = encoder_layer(x)\n",
        "\n",
        "      #The output of the encoder layers is the text features. We are going to be using the features from the EOT embedding.\n",
        "\n",
        "      x = x[torch.arange(text.shape[0]), torch.sub(torch.sum(mask[:,0],dim=1),1)]\n",
        "\n",
        "      if self.projection is not None:\n",
        "         x = x @ self.projection\n",
        "\n",
        "      x = x / torch.norm(x, dim=-1, keepdim = True)\n",
        "\n",
        "      return x"
      ],
      "metadata": {
        "id": "ZdcNtzrwv_ia"
      },
      "execution_count": null,
      "outputs": []
    },
    {
      "cell_type": "code",
      "source": [
        "class TextEncoder_Retrieval(nn.Module):\n",
        "  def __init__(self, vocab_size, d_model, max_seq_length, n_layers,n_heads, emb_dim):\n",
        "      super().__init__()\n",
        "\n",
        "      self.max_seq_length = max_seq_length\n",
        "\n",
        "      self.embed = nn.Embedding(vocab_size, d_model)\n",
        "\n",
        "      self.positional_embedding = PostionalEncoding(d_model, max_seq_length)\n",
        "\n",
        "      self.transformer_encoder = nn.ModuleList([Block(d_model, n_heads) for _ in range(n_layers)])\n",
        "\n",
        "      self.projection = nn.Parameter(torch.randn(d_model, emb_dim))\n",
        "\n",
        "\n",
        " # # For image retrieval\n",
        "  def forward(self, text, mask=None):\n",
        "        x = self.embed(text)\n",
        "        x = self.positional_embedding(x)\n",
        "\n",
        "        for encoder_layer in self.transformer_encoder:\n",
        "            x = encoder_layer(x)\n",
        "\n",
        "        if mask is not None:\n",
        "            # Get the lengths of each sequence (i.e., find the last non-padded token)\n",
        "            seq_lengths = mask.sum(dim=1) - 1  # Subtract 1 to get the index\n",
        "            x = x[torch.arange(text.shape[0]), seq_lengths]\n",
        "        else:\n",
        "            x = x[:, -1]  # If no mask is provided, take the last token in the sequence.\n",
        "\n",
        "        if self.projection is not None:\n",
        "            x = x @ self.projection\n",
        "\n",
        "        x = x / torch.norm(x, dim=-1, keepdim=True)\n",
        "\n",
        "        return x"
      ],
      "metadata": {
        "id": "2VH2Z4G6wDqF"
      },
      "execution_count": null,
      "outputs": []
    },
    {
      "cell_type": "code",
      "source": [
        "class CLIP(nn.Module):\n",
        "\n",
        "    def __init__(self, emb_dim, vit_layers, vit_d_model, img_size, patch_size, n_channels, vit_heads, vocab_size, max_seq_length, text_heads, text_layers, text_d_model, retrieval = False):\n",
        "        super().__init__()\n",
        "\n",
        "        self.vision_encoder = VisionEncoder(vit_d_model, img_size, patch_size, n_channels, vit_heads, vit_layers, emb_dim) #Vision Encoder\n",
        "\n",
        "        self.text_encoder = TextEncoder(vocab_size, text_d_model, max_seq_length, text_layers, text_heads, emb_dim) #Text Encoder\n",
        "\n",
        "        self.temperature = nn.Parameter(torch.ones([]) * np.log(1 / 0.07))\n",
        "\n",
        "        self.device = torch.device(\"cuda\" if torch.cuda.is_available() else \"cpu\")\n",
        "\n",
        "    def CLIPLoss(self, logits, device = \"cuda\"):\n",
        "        #Symmetric or Contrastive loss\n",
        "    # arange generates a list between 0 and n-1\n",
        "        labels = torch.arange(logits.shape[0]).to(device)  # For row 1 we want 1,1 to be max, and row n-1 we want (n-1,n-1) text pairs to be max --> time 15.43 umar\n",
        "\n",
        "        loss_v = nn.functional.cross_entropy(logits.transpose(-2,-1), labels)\n",
        "\n",
        "        loss_t = nn.functional.cross_entropy(logits, labels)\n",
        "        loss = (loss_v + loss_t) / 2\n",
        "\n",
        "        return loss\n",
        "\n",
        "    def forward(self, image, text, mask=None):\n",
        "      V_e = self.vision_encoder(image)  # Extract just the embeddings\n",
        "      T_e = self.text_encoder(text, mask)  # Extract just the embeddings\n",
        "\n",
        "      logits = (V_e @ T_e.transpose(-2, -1)) * torch.exp(self.temperature)\n",
        "\n",
        "      loss = self.CLIPLoss(logits, self.device)\n",
        "\n",
        "      return loss\n"
      ],
      "metadata": {
        "id": "Y6UUF6vmwH9W"
      },
      "execution_count": null,
      "outputs": []
    },
    {
      "cell_type": "code",
      "source": [
        "Remb_dim = 128\n",
        "vit_d_model = 32 # vit_heads * vit_layers = vit_d_model\n",
        "img_size = (80,80)\n",
        "patch_size = (5,5)\n",
        "n_channels = 3\n",
        "vit_layers = 8\n",
        "vit_heads = 4\n",
        "\n",
        "# Text\n",
        "vocab_size = 256\n",
        "text_d_model = 64 #  -->  text_heads * text_layers = text_d_model\n",
        "max_seq_length = 128\n",
        "text_heads = 8\n",
        "text_layers = 8\n",
        "lr = 1e-3\n",
        "epochs = 50\n",
        "batch_size = 128"
      ],
      "metadata": {
        "id": "eRL6XOHMwQTq"
      },
      "execution_count": null,
      "outputs": []
    },
    {
      "cell_type": "code",
      "source": [
        "\n",
        "\n",
        "import torch\n",
        "import torch.nn as nn\n",
        "import torch.optim as optim\n",
        "import torchvision\n",
        "import torchvision.transforms as T\n",
        "from torch.utils.data import Dataset, DataLoader\n",
        "from sklearn.model_selection import train_test_split\n",
        "from torch.utils.data import Subset\n",
        "\n",
        "import matplotlib.pyplot as plt\n",
        "\n",
        "import numpy as np\n",
        "import pandas as pd\n",
        "from PIL import Image, ImageDraw, ImageOps\n",
        "import pdb\n",
        "import os\n",
        "from tqdm import tqdm\n",
        "import random\n",
        "\n",
        "import warnings\n",
        "warnings.filterwarnings('ignore')\n",
        "\n"
      ],
      "metadata": {
        "id": "pqQFubZpoha8"
      },
      "execution_count": null,
      "outputs": []
    },
    {
      "cell_type": "code",
      "source": [
        "!kaggle datasets download -d paramaggarwal/fashion-product-images-small -q"
      ],
      "metadata": {
        "id": "EkoOFvOUDIF2"
      },
      "execution_count": null,
      "outputs": []
    },
    {
      "cell_type": "code",
      "source": [
        "!unzip fashion-product-images-small.zip -d fashion"
      ],
      "metadata": {
        "id": "UkuQVjGoDKoi"
      },
      "execution_count": null,
      "outputs": []
    },
    {
      "cell_type": "code",
      "source": [
        "# Load the dataset\n",
        "df = pd.read_csv('fashion/myntradataset/styles.csv', usecols=['id',  'subCategory'])\n",
        "\n",
        "unique, counts = np.unique(df[\"subCategory\"].tolist(), return_counts = True)\n",
        "print(f\"Classes: {unique}: {counts}\")\n",
        "\n",
        "# Split the dataset into training and validation sets\n",
        "train_df, val_df = train_test_split(df, test_size=0.10, random_state=42)\n",
        "\n",
        "# Print the sizes of the datasets\n",
        "print(f\"Train size: {len(train_df)}, Validation size: {len(val_df)}\")\n",
        "class_names = df['subCategory'].unique()\n",
        "class_names = [str(name).lower() for name in class_names]\n",
        "\n",
        "# Replace in-place\n",
        "for i, name in enumerate(class_names):\n",
        "    if name == \"lips\":\n",
        "        class_names[i] = \"lipstick\"\n",
        "    elif name == \"eyes\":\n",
        "        class_names[i] = \"eyelash\"\n",
        "    elif name == \"nails\":\n",
        "        class_names[i] = \"nail polish\"\n",
        "\n",
        "captions = {idx: class_name for idx, class_name in enumerate(class_names)}\n",
        "\n",
        "for idx, caption in captions.items():\n",
        "    print(f\"{idx}: {caption}\\n\")"
      ],
      "metadata": {
        "colab": {
          "base_uri": "https://localhost:8080/"
        },
        "id": "4UUuM2POnbDn",
        "outputId": "5ba1a19d-b388-49fe-a23a-c73078179419"
      },
      "execution_count": null,
      "outputs": [
        {
          "output_type": "stream",
          "name": "stdout",
          "text": [
            "Classes: ['Accessories' 'Apparel Set' 'Bags' 'Bath and Body' 'Beauty Accessories'\n",
            " 'Belts' 'Bottomwear' 'Cufflinks' 'Dress' 'Eyes' 'Eyewear' 'Flip Flops'\n",
            " 'Fragrance' 'Free Gifts' 'Gloves' 'Hair' 'Headwear' 'Home Furnishing'\n",
            " 'Innerwear' 'Jewellery' 'Lips' 'Loungewear and Nightwear' 'Makeup'\n",
            " 'Mufflers' 'Nails' 'Perfumes' 'Sandal' 'Saree' 'Scarves'\n",
            " 'Shoe Accessories' 'Shoes' 'Skin' 'Skin Care' 'Socks'\n",
            " 'Sports Accessories' 'Sports Equipment' 'Stoles' 'Ties' 'Topwear'\n",
            " 'Umbrellas' 'Vouchers' 'Wallets' 'Watches' 'Water Bottle' 'Wristbands']: [  143   106  3055    12     4   811  2694   108   478    43  1073   915\n",
            "  1012   104    20    19   293     1  1808  1080   527   470   307    38\n",
            "   329     6   963   427   118    24  7344    69    77   698     3    21\n",
            "    90   258 15405     6     1   933  2542     7     4]\n",
            "Train size: 40001, Validation size: 4445\n",
            "0: topwear\n",
            "\n",
            "1: bottomwear\n",
            "\n",
            "2: watches\n",
            "\n",
            "3: socks\n",
            "\n",
            "4: shoes\n",
            "\n",
            "5: belts\n",
            "\n",
            "6: flip flops\n",
            "\n",
            "7: bags\n",
            "\n",
            "8: innerwear\n",
            "\n",
            "9: sandal\n",
            "\n",
            "10: shoe accessories\n",
            "\n",
            "11: fragrance\n",
            "\n",
            "12: jewellery\n",
            "\n",
            "13: lipstick\n",
            "\n",
            "14: saree\n",
            "\n",
            "15: eyewear\n",
            "\n",
            "16: nail polish\n",
            "\n",
            "17: scarves\n",
            "\n",
            "18: dress\n",
            "\n",
            "19: loungewear and nightwear\n",
            "\n",
            "20: wallets\n",
            "\n",
            "21: apparel set\n",
            "\n",
            "22: headwear\n",
            "\n",
            "23: mufflers\n",
            "\n",
            "24: skin care\n",
            "\n",
            "25: makeup\n",
            "\n",
            "26: free gifts\n",
            "\n",
            "27: ties\n",
            "\n",
            "28: accessories\n",
            "\n",
            "29: skin\n",
            "\n",
            "30: beauty accessories\n",
            "\n",
            "31: water bottle\n",
            "\n",
            "32: eyelash\n",
            "\n",
            "33: bath and body\n",
            "\n",
            "34: gloves\n",
            "\n",
            "35: sports accessories\n",
            "\n",
            "36: cufflinks\n",
            "\n",
            "37: sports equipment\n",
            "\n",
            "38: stoles\n",
            "\n",
            "39: hair\n",
            "\n",
            "40: perfumes\n",
            "\n",
            "41: home furnishing\n",
            "\n",
            "42: umbrellas\n",
            "\n",
            "43: wristbands\n",
            "\n",
            "44: vouchers\n",
            "\n"
          ]
        }
      ]
    },
    {
      "cell_type": "code",
      "source": [
        "class MyntraDataset(Dataset):\n",
        "    def __init__(self, data_frame, captions, target_size=28):\n",
        "\n",
        "        self.data_frame = data_frame[data_frame['subCategory'].str.lower() != 'innerwear']\n",
        "        self.target_size = target_size  # Desired size for the square image\n",
        "        self.transform = T.Compose([\n",
        "            T.ToTensor()  # Convert image to tensor\n",
        "        ])\n",
        "\n",
        "        self.captions = captions\n",
        "\n",
        "    def __len__(self):\n",
        "        return len(self.data_frame)\n",
        "\n",
        "    def __getitem__(self, idx):\n",
        "        while True:\n",
        "            sample = self.data_frame.iloc[idx]\n",
        "            img_path = os.path.join(\"fashion/myntradataset/images\", f\"{sample['id']}.jpg\")\n",
        "\n",
        "            try:\n",
        "                # Attempt to open the image\n",
        "                image = Image.open(img_path).convert('RGB')\n",
        "            except (FileNotFoundError, IOError):\n",
        "                # If the image is not found, skip this sample by incrementing the index\n",
        "                idx = (idx + 1) % len(self.data_frame)  # Loop back to the start if we reach the end\n",
        "                continue  # Retry with the next index\n",
        "\n",
        "            # Resize the image to maintain aspect ratio\n",
        "            image = self.resize_and_pad(image, self.target_size)\n",
        "\n",
        "            # Apply transformations (convert to tensor)\n",
        "            image = self.transform(image)\n",
        "\n",
        "            # Retrieve the subCategory label and its corresponding caption\n",
        "            label = sample['subCategory'].lower()\n",
        "            label = {\"lips\": \"lipstick\", \"eyes\": \"eyelash\", \"nails\": \"nail polish\"}.get(label, label)\n",
        "\n",
        "            label_idx = next(idx for idx, class_name in self.captions.items() if class_name == label)\n",
        "\n",
        "            # # Tokenize the caption using the tokenizer function\n",
        "            cap, mask = tokenizer(self.captions[label_idx])\n",
        "\n",
        "            # Make sure the mask is a tensor\n",
        "            mask = torch.tensor(mask)\n",
        "\n",
        "            # If the mask is a single dimension, make sure it is expanded correctly\n",
        "            if len(mask.size()) == 1:\n",
        "                mask = mask.unsqueeze(0)\n",
        "\n",
        "            return {\"image\": image, \"caption\": cap, \"mask\": mask,\"id\": img_path}\n",
        "\n",
        "    def resize_and_pad(self, image, target_size):\n",
        "        original_width, original_height = image.size\n",
        "        aspect_ratio = original_width / original_height\n",
        "\n",
        "        if aspect_ratio > 1:\n",
        "            new_width = target_size\n",
        "            new_height = int(target_size / aspect_ratio)\n",
        "        else:\n",
        "            new_height = target_size\n",
        "            new_width = int(target_size * aspect_ratio)\n",
        "\n",
        "        image = image.resize((new_width, new_height))\n",
        "\n",
        "        pad_width = (target_size - new_width) // 2\n",
        "        pad_height = (target_size - new_height) // 2\n",
        "\n",
        "        padding = (pad_width, pad_height, target_size - new_width - pad_width, target_size - new_height - pad_height)\n",
        "        image = ImageOps.expand(image, padding, fill=(0, 0, 0))\n",
        "\n",
        "        return image\n",
        "\n",
        "#Create datasets\n",
        "train_dataset = MyntraDataset(data_frame=train_df ,captions = captions, target_size =80)\n",
        "val_dataset = MyntraDataset(data_frame=val_df ,captions = captions ,target_size =80)\n",
        "test_dataset = MyntraDataset(data_frame=val_df, captions = captions, target_size = 224)\n",
        "\n",
        "\n",
        "print(\"Number of Samples in Train Dataset:\", len(train_dataset))\n",
        "print(\"Number of Samples in Validation Dataset:\", len(val_dataset))\n",
        "\n",
        "\n",
        "train_loader = DataLoader(train_dataset, shuffle = True, batch_size = batch_size,num_workers = 5)\n",
        "val_loader  = DataLoader(val_dataset, shuffle = False, batch_size = batch_size,num_workers = 5)\n",
        "test_loader = DataLoader(test_dataset, shuffle = False, batch_size = batch_size, num_workers = 5)\n",
        "\n",
        "#Sanity check of dataloader initialization\n",
        "len(next(iter(train_loader)))  #(img_tensor,label_tensor)\n"
      ],
      "metadata": {
        "colab": {
          "base_uri": "https://localhost:8080/"
        },
        "id": "SylUP-OvnfMo",
        "outputId": "90d4e8f4-74a4-4397-b9f0-ed57ba9b487d"
      },
      "execution_count": null,
      "outputs": [
        {
          "output_type": "stream",
          "name": "stdout",
          "text": [
            "Number of Samples in Train Dataset: 38360\n",
            "Number of Samples in Validation Dataset: 4278\n"
          ]
        },
        {
          "output_type": "execute_result",
          "data": {
            "text/plain": [
              "4"
            ]
          },
          "metadata": {},
          "execution_count": 386
        }
      ]
    },
    {
      "cell_type": "code",
      "source": [
        "# Function to visualize a batch of images with their class names\n",
        "def visualize_samples(dataset, tokenizer, num_samples=5):\n",
        "    # Get a batch of samples\n",
        "    for i in range(num_samples):\n",
        "        sample = dataset[i]  # Access the ith sample in the dataset\n",
        "        image = sample['image']\n",
        "        tokenized_caption = sample['caption']\n",
        "        mask = sample['mask'][0]\n",
        "\n",
        "        # Decode the tokenized caption to get the original class name\n",
        "        original_caption = tokenizer(tokenized_caption, encode=False, mask=mask)[0]\n",
        "\n",
        "        # Convert the tensor image back to a PIL image for visualization\n",
        "        image = T.ToPILImage()(image)\n",
        "\n",
        "        # Display the image\n",
        "        plt.figure(figsize=(4, 4))\n",
        "        plt.imshow(image,cmap=\"gray\")\n",
        "        plt.title(f\"Class: {original_caption}\")  # Display the non-tokenized class name as title\n",
        "        plt.axis('off')\n",
        "        plt.show()\n",
        "\n",
        "# Visualize samples from the train dataset\n",
        "visualize_samples(train_dataset, tokenizer, num_samples=5)"
      ],
      "metadata": {
        "colab": {
          "base_uri": "https://localhost:8080/",
          "height": 1000
        },
        "id": "I1XwhVu5niim",
        "outputId": "d532e38b-cefd-4549-f992-49717a9a84a7"
      },
      "execution_count": null,
      "outputs": [
        {
          "output_type": "display_data",
          "data": {
            "text/plain": [
              "<Figure size 400x400 with 1 Axes>"
            ],
            "image/png": "[encoded data removed]"
          },
          "metadata": {}
        },
        {
          "output_type": "display_data",
          "data": {
            "text/plain": [
              "<Figure size 400x400 with 1 Axes>"
            ],
            "image/png": "[encoded data removed]"
          },
          "metadata": {}
        },
        {
          "output_type": "display_data",
          "data": {
            "text/plain": [
              "<Figure size 400x400 with 1 Axes>"
            ],
            "image/png": "[encoded data removed]"
          },
          "metadata": {}
        },
        {
          "output_type": "display_data",
          "data": {
            "text/plain": [
              "<Figure size 400x400 with 1 Axes>"
            ],
            "image/png": "[encoded data removed]"
          },
          "metadata": {}
        },
        {
          "output_type": "display_data",
          "data": {
            "text/plain": [
              "<Figure size 400x400 with 1 Axes>"
            ],
            "image/png": "[encoded data removed]"
          },
          "metadata": {}
        }
      ]
    },
    {
      "cell_type": "code",
      "source": [
        "device = torch.device(\"cuda\" if torch.cuda.is_available() else \"cpu\")\n",
        "print(\"Using device: \", device, f\"({torch.cuda.get_device_name(device)})\" if torch.cuda.is_available() else \"\")\n",
        "\n",
        "\n",
        "model = CLIP(emb_dim, vit_layers, vit_d_model, img_size,patch_size,n_channels, vit_heads, vocab_size, max_seq_length, text_heads, text_layers,text_d_model, retrieval = False).to(device)\n",
        "optimizer = optim.AdamW(model.parameters(), lr=lr)"
      ],
      "metadata": {
        "colab": {
          "base_uri": "https://localhost:8080/"
        },
        "id": "qiVreVRpo0rr",
        "outputId": "ffd9b78d-1f5a-4a3c-ab9b-bd43232720c2"
      },
      "execution_count": null,
      "outputs": [
        {
          "output_type": "stream",
          "name": "stdout",
          "text": [
            "Using device:  cuda (Tesla T4)\n",
            "Number of patches: 256, Expected tokens with CLS: 257\n"
          ]
        }
      ]
    },
    {
      "cell_type": "code",
      "source": [
        "total_params = 0\n",
        "\n",
        "total_params = sum([ param.numel() for param in model.parameters() if param.requires_grad])\n",
        "\n",
        "print(f\"Total number of trainable parameters: {total_params}; i.e., {total_params/1000000:.2f} M\")"
      ],
      "metadata": {
        "colab": {
          "base_uri": "https://localhost:8080/"
        },
        "id": "X5BNM04anlDK",
        "outputId": "529e2372-c84b-44a8-8b69-ad7500809849"
      },
      "execution_count": null,
      "outputs": [
        {
          "output_type": "stream",
          "name": "stdout",
          "text": [
            "Total number of trainable parameters: 540929; i.e., 0.54 M\n"
          ]
        }
      ]
    },
    {
      "cell_type": "code",
      "source": [
        "best_loss = np.inf\n",
        "for epoch in range(epochs):\n",
        "    epoch_loss = 0.0  # To accumulate the loss over the epoch\n",
        "    with tqdm(enumerate(train_loader, 0), total=len(train_loader), desc=f\"Epoch [{epoch+1}/{epochs}]\") as tepoch:\n",
        "        for i, data in tepoch:\n",
        "            img, cap, mask = data[\"image\"].to(device), data[\"caption\"].to(device), data[\"mask\"].to(device)\n",
        "            optimizer.zero_grad()\n",
        "            loss = model(img, cap, mask)\n",
        "            loss.backward()\n",
        "            optimizer.step()\n",
        "\n",
        "            # Update the progress bar with the current loss\n",
        "            tepoch.set_postfix(loss=loss.item())\n",
        "            epoch_loss += loss.item()\n",
        "\n",
        "    avg_loss = epoch_loss / len(train_loader)\n",
        "    print(f\"Epoch [{epoch+1}/{epochs}], Average Loss: {avg_loss:.3f}\")\n",
        "\n",
        "    # Save model if it performed better than the previous best\n",
        "    if avg_loss <= best_loss:\n",
        "        best_loss = avg_loss\n",
        "        torch.save(model.state_dict(), \"clip.pt\")\n",
        "        print(\"Model Saved.\")"
      ],
      "metadata": {
        "colab": {
          "base_uri": "https://localhost:8080/",
          "height": 1000
        },
        "id": "ky9xqY3tnm_s",
        "outputId": "dfd41a6e-1916-4cbc-9bdc-77f70faff328"
      },
      "execution_count": null,
      "outputs": [
        {
          "output_type": "stream",
          "name": "stderr",
          "text": [
            "Epoch [1/50]: 100%|██████████| 300/300 [01:08<00:00,  4.38it/s, loss=3.56]"
          ]
        },
        {
          "output_type": "stream",
          "name": "stdout",
          "text": [
            "Epoch [1/50], Average Loss: 4.496\n",
            "Model Saved.\n"
          ]
        },
        {
          "output_type": "stream",
          "name": "stderr",
          "text": [
            "\n",
            "Epoch [2/50]: 100%|██████████| 300/300 [01:05<00:00,  4.55it/s, loss=2.83]"
          ]
        },
        {
          "output_type": "stream",
          "name": "stdout",
          "text": [
            "Epoch [2/50], Average Loss: 3.577\n",
            "Model Saved.\n"
          ]
        },
        {
          "output_type": "stream",
          "name": "stderr",
          "text": [
            "\n",
            "Epoch [3/50]: 100%|██████████| 300/300 [01:06<00:00,  4.53it/s, loss=2.9]"
          ]
        },
        {
          "output_type": "stream",
          "name": "stdout",
          "text": [
            "Epoch [3/50], Average Loss: 3.212\n",
            "Model Saved.\n"
          ]
        },
        {
          "output_type": "stream",
          "name": "stderr",
          "text": [
            "\n",
            "Epoch [4/50]: 100%|██████████| 300/300 [01:06<00:00,  4.53it/s, loss=2.86]"
          ]
        },
        {
          "output_type": "stream",
          "name": "stdout",
          "text": [
            "Epoch [4/50], Average Loss: 3.111\n",
            "Model Saved.\n"
          ]
        },
        {
          "output_type": "stream",
          "name": "stderr",
          "text": [
            "\n",
            "Epoch [5/50]: 100%|██████████| 300/300 [01:06<00:00,  4.54it/s, loss=3.01]"
          ]
        },
        {
          "output_type": "stream",
          "name": "stdout",
          "text": [
            "Epoch [5/50], Average Loss: 3.057\n",
            "Model Saved.\n"
          ]
        },
        {
          "output_type": "stream",
          "name": "stderr",
          "text": [
            "\n",
            "Epoch [6/50]: 100%|██████████| 300/300 [01:06<00:00,  4.52it/s, loss=2.75]"
          ]
        },
        {
          "output_type": "stream",
          "name": "stdout",
          "text": [
            "Epoch [6/50], Average Loss: 3.015\n",
            "Model Saved.\n"
          ]
        },
        {
          "output_type": "stream",
          "name": "stderr",
          "text": [
            "\n",
            "Epoch [7/50]: 100%|██████████| 300/300 [01:06<00:00,  4.52it/s, loss=2.79]"
          ]
        },
        {
          "output_type": "stream",
          "name": "stdout",
          "text": [
            "Epoch [7/50], Average Loss: 2.983\n",
            "Model Saved.\n"
          ]
        },
        {
          "output_type": "stream",
          "name": "stderr",
          "text": [
            "\n",
            "Epoch [8/50]: 100%|██████████| 300/300 [01:06<00:00,  4.53it/s, loss=2.46]"
          ]
        },
        {
          "output_type": "stream",
          "name": "stdout",
          "text": [
            "Epoch [8/50], Average Loss: 2.956\n",
            "Model Saved.\n"
          ]
        },
        {
          "output_type": "stream",
          "name": "stderr",
          "text": [
            "\n",
            "Epoch [9/50]: 100%|██████████| 300/300 [01:06<00:00,  4.50it/s, loss=2.64]"
          ]
        },
        {
          "output_type": "stream",
          "name": "stdout",
          "text": [
            "Epoch [9/50], Average Loss: 2.930\n",
            "Model Saved.\n"
          ]
        },
        {
          "output_type": "stream",
          "name": "stderr",
          "text": [
            "\n",
            "Epoch [10/50]: 100%|██████████| 300/300 [01:06<00:00,  4.53it/s, loss=2.61]"
          ]
        },
        {
          "output_type": "stream",
          "name": "stdout",
          "text": [
            "Epoch [10/50], Average Loss: 2.914\n",
            "Model Saved.\n"
          ]
        },
        {
          "output_type": "stream",
          "name": "stderr",
          "text": [
            "\n",
            "Epoch [11/50]: 100%|██████████| 300/300 [01:06<00:00,  4.53it/s, loss=2.76]"
          ]
        },
        {
          "output_type": "stream",
          "name": "stdout",
          "text": [
            "Epoch [11/50], Average Loss: 2.901\n",
            "Model Saved.\n"
          ]
        },
        {
          "output_type": "stream",
          "name": "stderr",
          "text": [
            "\n",
            "Epoch [12/50]: 100%|██████████| 300/300 [01:06<00:00,  4.52it/s, loss=2.7]"
          ]
        },
        {
          "output_type": "stream",
          "name": "stdout",
          "text": [
            "Epoch [12/50], Average Loss: 2.884\n",
            "Model Saved.\n"
          ]
        },
        {
          "output_type": "stream",
          "name": "stderr",
          "text": [
            "\n",
            "Epoch [13/50]: 100%|██████████| 300/300 [01:06<00:00,  4.53it/s, loss=2.67]"
          ]
        },
        {
          "output_type": "stream",
          "name": "stdout",
          "text": [
            "Epoch [13/50], Average Loss: 2.867\n",
            "Model Saved.\n"
          ]
        },
        {
          "output_type": "stream",
          "name": "stderr",
          "text": [
            "\n",
            "Epoch [14/50]: 100%|██████████| 300/300 [01:06<00:00,  4.54it/s, loss=2.49]"
          ]
        },
        {
          "output_type": "stream",
          "name": "stdout",
          "text": [
            "Epoch [14/50], Average Loss: 2.858\n",
            "Model Saved.\n"
          ]
        },
        {
          "output_type": "stream",
          "name": "stderr",
          "text": [
            "\n",
            "Epoch [15/50]: 100%|██████████| 300/300 [01:06<00:00,  4.54it/s, loss=2.79]"
          ]
        },
        {
          "output_type": "stream",
          "name": "stdout",
          "text": [
            "Epoch [15/50], Average Loss: 2.853\n",
            "Model Saved.\n"
          ]
        },
        {
          "output_type": "stream",
          "name": "stderr",
          "text": [
            "\n",
            "Epoch [16/50]: 100%|██████████| 300/300 [01:06<00:00,  4.50it/s, loss=2.54]"
          ]
        },
        {
          "output_type": "stream",
          "name": "stdout",
          "text": [
            "Epoch [16/50], Average Loss: 2.838\n",
            "Model Saved.\n"
          ]
        },
        {
          "output_type": "stream",
          "name": "stderr",
          "text": [
            "\n",
            "Epoch [17/50]: 100%|██████████| 300/300 [01:05<00:00,  4.55it/s, loss=2.4]"
          ]
        },
        {
          "output_type": "stream",
          "name": "stdout",
          "text": [
            "Epoch [17/50], Average Loss: 2.831\n",
            "Model Saved.\n"
          ]
        },
        {
          "output_type": "stream",
          "name": "stderr",
          "text": [
            "\n",
            "Epoch [18/50]: 100%|██████████| 300/300 [01:05<00:00,  4.56it/s, loss=2.83]"
          ]
        },
        {
          "output_type": "stream",
          "name": "stdout",
          "text": [
            "Epoch [18/50], Average Loss: 2.817\n",
            "Model Saved.\n"
          ]
        },
        {
          "output_type": "stream",
          "name": "stderr",
          "text": [
            "\n",
            "Epoch [19/50]: 100%|██████████| 300/300 [01:06<00:00,  4.54it/s, loss=2.44]"
          ]
        },
        {
          "output_type": "stream",
          "name": "stdout",
          "text": [
            "Epoch [19/50], Average Loss: 2.809\n",
            "Model Saved.\n"
          ]
        },
        {
          "output_type": "stream",
          "name": "stderr",
          "text": [
            "\n",
            "Epoch [20/50]:  27%|██▋       | 82/300 [00:18<00:50,  4.35it/s, loss=2.86]\n"
          ]
        },
        {
          "output_type": "error",
          "ename": "KeyboardInterrupt",
          "evalue": "",
          "traceback": [
            "\u001b[0;31m---------------------------------------------------------------------------\u001b[0m",
            "\u001b[0;31mKeyboardInterrupt\u001b[0m                         Traceback (most recent call last)",
            "\u001b[0;32m<ipython-input-390-a1eab3b17565>\u001b[0m in \u001b[0;36m<cell line: 0>\u001b[0;34m()\u001b[0m\n\u001b[1;32m      6\u001b[0m             \u001b[0mimg\u001b[0m\u001b[0;34m,\u001b[0m \u001b[0mcap\u001b[0m\u001b[0;34m,\u001b[0m \u001b[0mmask\u001b[0m \u001b[0;34m=\u001b[0m \u001b[0mdata\u001b[0m\u001b[0;34m[\u001b[0m\u001b[0;34m\"image\"\u001b[0m\u001b[0;34m]\u001b[0m\u001b[0;34m.\u001b[0m\u001b[0mto\u001b[0m\u001b[0;34m(\u001b[0m\u001b[0mdevice\u001b[0m\u001b[0;34m)\u001b[0m\u001b[0;34m,\u001b[0m \u001b[0mdata\u001b[0m\u001b[0;34m[\u001b[0m\u001b[0;34m\"caption\"\u001b[0m\u001b[0;34m]\u001b[0m\u001b[0;34m.\u001b[0m\u001b[0mto\u001b[0m\u001b[0;34m(\u001b[0m\u001b[0mdevice\u001b[0m\u001b[0;34m)\u001b[0m\u001b[0;34m,\u001b[0m \u001b[0mdata\u001b[0m\u001b[0;34m[\u001b[0m\u001b[0;34m\"mask\"\u001b[0m\u001b[0;34m]\u001b[0m\u001b[0;34m.\u001b[0m\u001b[0mto\u001b[0m\u001b[0;34m(\u001b[0m\u001b[0mdevice\u001b[0m\u001b[0;34m)\u001b[0m\u001b[0;34m\u001b[0m\u001b[0;34m\u001b[0m\u001b[0m\n\u001b[1;32m      7\u001b[0m             \u001b[0moptimizer\u001b[0m\u001b[0;34m.\u001b[0m\u001b[0mzero_grad\u001b[0m\u001b[0;34m(\u001b[0m\u001b[0;34m)\u001b[0m\u001b[0;34m\u001b[0m\u001b[0;34m\u001b[0m\u001b[0m\n\u001b[0;32m----> 8\u001b[0;31m             \u001b[0mloss\u001b[0m \u001b[0;34m=\u001b[0m \u001b[0mmodel\u001b[0m\u001b[0;34m(\u001b[0m\u001b[0mimg\u001b[0m\u001b[0;34m,\u001b[0m \u001b[0mcap\u001b[0m\u001b[0;34m,\u001b[0m \u001b[0mmask\u001b[0m\u001b[0;34m)\u001b[0m\u001b[0;34m\u001b[0m\u001b[0;34m\u001b[0m\u001b[0m\n\u001b[0m\u001b[1;32m      9\u001b[0m             \u001b[0mloss\u001b[0m\u001b[0;34m.\u001b[0m\u001b[0mbackward\u001b[0m\u001b[0;34m(\u001b[0m\u001b[0;34m)\u001b[0m\u001b[0;34m\u001b[0m\u001b[0;34m\u001b[0m\u001b[0m\n\u001b[1;32m     10\u001b[0m             \u001b[0moptimizer\u001b[0m\u001b[0;34m.\u001b[0m\u001b[0mstep\u001b[0m\u001b[0;34m(\u001b[0m\u001b[0;34m)\u001b[0m\u001b[0;34m\u001b[0m\u001b[0;34m\u001b[0m\u001b[0m\n",
            "\u001b[0;32m/usr/local/lib/python3.11/dist-packages/torch/nn/modules/module.py\u001b[0m in \u001b[0;36m_wrapped_call_impl\u001b[0;34m(self, *args, **kwargs)\u001b[0m\n\u001b[1;32m   1734\u001b[0m             \u001b[0;32mreturn\u001b[0m \u001b[0mself\u001b[0m\u001b[0;34m.\u001b[0m\u001b[0m_compiled_call_impl\u001b[0m\u001b[0;34m(\u001b[0m\u001b[0;34m*\u001b[0m\u001b[0margs\u001b[0m\u001b[0;34m,\u001b[0m \u001b[0;34m**\u001b[0m\u001b[0mkwargs\u001b[0m\u001b[0;34m)\u001b[0m  \u001b[0;31m# type: ignore[misc]\u001b[0m\u001b[0;34m\u001b[0m\u001b[0;34m\u001b[0m\u001b[0m\n\u001b[1;32m   1735\u001b[0m         \u001b[0;32melse\u001b[0m\u001b[0;34m:\u001b[0m\u001b[0;34m\u001b[0m\u001b[0;34m\u001b[0m\u001b[0m\n\u001b[0;32m-> 1736\u001b[0;31m             \u001b[0;32mreturn\u001b[0m \u001b[0mself\u001b[0m\u001b[0;34m.\u001b[0m\u001b[0m_call_impl\u001b[0m\u001b[0;34m(\u001b[0m\u001b[0;34m*\u001b[0m\u001b[0margs\u001b[0m\u001b[0;34m,\u001b[0m \u001b[0;34m**\u001b[0m\u001b[0mkwargs\u001b[0m\u001b[0;34m)\u001b[0m\u001b[0;34m\u001b[0m\u001b[0;34m\u001b[0m\u001b[0m\n\u001b[0m\u001b[1;32m   1737\u001b[0m \u001b[0;34m\u001b[0m\u001b[0m\n\u001b[1;32m   1738\u001b[0m     \u001b[0;31m# torchrec tests the code consistency with the following code\u001b[0m\u001b[0;34m\u001b[0m\u001b[0;34m\u001b[0m\u001b[0m\n",
            "\u001b[0;32m/usr/local/lib/python3.11/dist-packages/torch/nn/modules/module.py\u001b[0m in \u001b[0;36m_call_impl\u001b[0;34m(self, *args, **kwargs)\u001b[0m\n\u001b[1;32m   1745\u001b[0m                 \u001b[0;32mor\u001b[0m \u001b[0m_global_backward_pre_hooks\u001b[0m \u001b[0;32mor\u001b[0m \u001b[0m_global_backward_hooks\u001b[0m\u001b[0;34m\u001b[0m\u001b[0;34m\u001b[0m\u001b[0m\n\u001b[1;32m   1746\u001b[0m                 or _global_forward_hooks or _global_forward_pre_hooks):\n\u001b[0;32m-> 1747\u001b[0;31m             \u001b[0;32mreturn\u001b[0m \u001b[0mforward_call\u001b[0m\u001b[0;34m(\u001b[0m\u001b[0;34m*\u001b[0m\u001b[0margs\u001b[0m\u001b[0;34m,\u001b[0m \u001b[0;34m**\u001b[0m\u001b[0mkwargs\u001b[0m\u001b[0;34m)\u001b[0m\u001b[0;34m\u001b[0m\u001b[0;34m\u001b[0m\u001b[0m\n\u001b[0m\u001b[1;32m   1748\u001b[0m \u001b[0;34m\u001b[0m\u001b[0m\n\u001b[1;32m   1749\u001b[0m         \u001b[0mresult\u001b[0m \u001b[0;34m=\u001b[0m \u001b[0;32mNone\u001b[0m\u001b[0;34m\u001b[0m\u001b[0;34m\u001b[0m\u001b[0m\n",
            "\u001b[0;32m<ipython-input-382-be0f9772ed58>\u001b[0m in \u001b[0;36mforward\u001b[0;34m(self, image, text, mask)\u001b[0m\n\u001b[1;32m     29\u001b[0m     \u001b[0;32mdef\u001b[0m \u001b[0mforward\u001b[0m\u001b[0;34m(\u001b[0m\u001b[0mself\u001b[0m\u001b[0;34m,\u001b[0m \u001b[0mimage\u001b[0m\u001b[0;34m,\u001b[0m \u001b[0mtext\u001b[0m\u001b[0;34m,\u001b[0m \u001b[0mmask\u001b[0m\u001b[0;34m=\u001b[0m\u001b[0;32mNone\u001b[0m\u001b[0;34m)\u001b[0m\u001b[0;34m:\u001b[0m\u001b[0;34m\u001b[0m\u001b[0;34m\u001b[0m\u001b[0m\n\u001b[1;32m     30\u001b[0m       \u001b[0mV_e\u001b[0m \u001b[0;34m=\u001b[0m \u001b[0mself\u001b[0m\u001b[0;34m.\u001b[0m\u001b[0mvision_encoder\u001b[0m\u001b[0;34m(\u001b[0m\u001b[0mimage\u001b[0m\u001b[0;34m)\u001b[0m  \u001b[0;31m# Extract just the embeddings\u001b[0m\u001b[0;34m\u001b[0m\u001b[0;34m\u001b[0m\u001b[0m\n\u001b[0;32m---> 31\u001b[0;31m       \u001b[0mT_e\u001b[0m \u001b[0;34m=\u001b[0m \u001b[0mself\u001b[0m\u001b[0;34m.\u001b[0m\u001b[0mtext_encoder\u001b[0m\u001b[0;34m(\u001b[0m\u001b[0mtext\u001b[0m\u001b[0;34m,\u001b[0m \u001b[0mmask\u001b[0m\u001b[0;34m)\u001b[0m  \u001b[0;31m# Extract just the embeddings\u001b[0m\u001b[0;34m\u001b[0m\u001b[0;34m\u001b[0m\u001b[0m\n\u001b[0m\u001b[1;32m     32\u001b[0m \u001b[0;34m\u001b[0m\u001b[0m\n\u001b[1;32m     33\u001b[0m       \u001b[0mlogits\u001b[0m \u001b[0;34m=\u001b[0m \u001b[0;34m(\u001b[0m\u001b[0mV_e\u001b[0m \u001b[0;34m@\u001b[0m \u001b[0mT_e\u001b[0m\u001b[0;34m.\u001b[0m\u001b[0mtranspose\u001b[0m\u001b[0;34m(\u001b[0m\u001b[0;34m-\u001b[0m\u001b[0;36m2\u001b[0m\u001b[0;34m,\u001b[0m \u001b[0;34m-\u001b[0m\u001b[0;36m1\u001b[0m\u001b[0;34m)\u001b[0m\u001b[0;34m)\u001b[0m \u001b[0;34m*\u001b[0m \u001b[0mtorch\u001b[0m\u001b[0;34m.\u001b[0m\u001b[0mexp\u001b[0m\u001b[0;34m(\u001b[0m\u001b[0mself\u001b[0m\u001b[0;34m.\u001b[0m\u001b[0mtemperature\u001b[0m\u001b[0;34m)\u001b[0m\u001b[0;34m\u001b[0m\u001b[0;34m\u001b[0m\u001b[0m\n",
            "\u001b[0;32m/usr/local/lib/python3.11/dist-packages/torch/nn/modules/module.py\u001b[0m in \u001b[0;36m_wrapped_call_impl\u001b[0;34m(self, *args, **kwargs)\u001b[0m\n\u001b[1;32m   1734\u001b[0m             \u001b[0;32mreturn\u001b[0m \u001b[0mself\u001b[0m\u001b[0;34m.\u001b[0m\u001b[0m_compiled_call_impl\u001b[0m\u001b[0;34m(\u001b[0m\u001b[0;34m*\u001b[0m\u001b[0margs\u001b[0m\u001b[0;34m,\u001b[0m \u001b[0;34m**\u001b[0m\u001b[0mkwargs\u001b[0m\u001b[0;34m)\u001b[0m  \u001b[0;31m# type: ignore[misc]\u001b[0m\u001b[0;34m\u001b[0m\u001b[0;34m\u001b[0m\u001b[0m\n\u001b[1;32m   1735\u001b[0m         \u001b[0;32melse\u001b[0m\u001b[0;34m:\u001b[0m\u001b[0;34m\u001b[0m\u001b[0;34m\u001b[0m\u001b[0m\n\u001b[0;32m-> 1736\u001b[0;31m             \u001b[0;32mreturn\u001b[0m \u001b[0mself\u001b[0m\u001b[0;34m.\u001b[0m\u001b[0m_call_impl\u001b[0m\u001b[0;34m(\u001b[0m\u001b[0;34m*\u001b[0m\u001b[0margs\u001b[0m\u001b[0;34m,\u001b[0m \u001b[0;34m**\u001b[0m\u001b[0mkwargs\u001b[0m\u001b[0;34m)\u001b[0m\u001b[0;34m\u001b[0m\u001b[0;34m\u001b[0m\u001b[0m\n\u001b[0m\u001b[1;32m   1737\u001b[0m \u001b[0;34m\u001b[0m\u001b[0m\n\u001b[1;32m   1738\u001b[0m     \u001b[0;31m# torchrec tests the code consistency with the following code\u001b[0m\u001b[0;34m\u001b[0m\u001b[0;34m\u001b[0m\u001b[0m\n",
            "\u001b[0;32m/usr/local/lib/python3.11/dist-packages/torch/nn/modules/module.py\u001b[0m in \u001b[0;36m_call_impl\u001b[0;34m(self, *args, **kwargs)\u001b[0m\n\u001b[1;32m   1745\u001b[0m                 \u001b[0;32mor\u001b[0m \u001b[0m_global_backward_pre_hooks\u001b[0m \u001b[0;32mor\u001b[0m \u001b[0m_global_backward_hooks\u001b[0m\u001b[0;34m\u001b[0m\u001b[0;34m\u001b[0m\u001b[0m\n\u001b[1;32m   1746\u001b[0m                 or _global_forward_hooks or _global_forward_pre_hooks):\n\u001b[0;32m-> 1747\u001b[0;31m             \u001b[0;32mreturn\u001b[0m \u001b[0mforward_call\u001b[0m\u001b[0;34m(\u001b[0m\u001b[0;34m*\u001b[0m\u001b[0margs\u001b[0m\u001b[0;34m,\u001b[0m \u001b[0;34m**\u001b[0m\u001b[0mkwargs\u001b[0m\u001b[0;34m)\u001b[0m\u001b[0;34m\u001b[0m\u001b[0;34m\u001b[0m\u001b[0m\n\u001b[0m\u001b[1;32m   1748\u001b[0m \u001b[0;34m\u001b[0m\u001b[0m\n\u001b[1;32m   1749\u001b[0m         \u001b[0mresult\u001b[0m \u001b[0;34m=\u001b[0m \u001b[0;32mNone\u001b[0m\u001b[0;34m\u001b[0m\u001b[0;34m\u001b[0m\u001b[0m\n",
            "\u001b[0;32m<ipython-input-380-20794285b7ec>\u001b[0m in \u001b[0;36mforward\u001b[0;34m(self, text, mask)\u001b[0m\n\u001b[1;32m     21\u001b[0m \u001b[0;34m\u001b[0m\u001b[0m\n\u001b[1;32m     22\u001b[0m       \u001b[0;32mfor\u001b[0m \u001b[0mencoder_layer\u001b[0m \u001b[0;32min\u001b[0m \u001b[0mself\u001b[0m\u001b[0;34m.\u001b[0m\u001b[0mtransformer_encoder\u001b[0m\u001b[0;34m:\u001b[0m\u001b[0;34m\u001b[0m\u001b[0;34m\u001b[0m\u001b[0m\n\u001b[0;32m---> 23\u001b[0;31m           \u001b[0mx\u001b[0m \u001b[0;34m=\u001b[0m \u001b[0mencoder_layer\u001b[0m\u001b[0;34m(\u001b[0m\u001b[0mx\u001b[0m\u001b[0;34m)\u001b[0m\u001b[0;34m\u001b[0m\u001b[0;34m\u001b[0m\u001b[0m\n\u001b[0m\u001b[1;32m     24\u001b[0m \u001b[0;34m\u001b[0m\u001b[0m\n\u001b[1;32m     25\u001b[0m       \u001b[0;31m#The output of the encoder layers is the text features. We are going to be using the features from the EOT embedding.\u001b[0m\u001b[0;34m\u001b[0m\u001b[0;34m\u001b[0m\u001b[0m\n",
            "\u001b[0;32m/usr/local/lib/python3.11/dist-packages/torch/nn/modules/module.py\u001b[0m in \u001b[0;36m_wrapped_call_impl\u001b[0;34m(self, *args, **kwargs)\u001b[0m\n\u001b[1;32m   1734\u001b[0m             \u001b[0;32mreturn\u001b[0m \u001b[0mself\u001b[0m\u001b[0;34m.\u001b[0m\u001b[0m_compiled_call_impl\u001b[0m\u001b[0;34m(\u001b[0m\u001b[0;34m*\u001b[0m\u001b[0margs\u001b[0m\u001b[0;34m,\u001b[0m \u001b[0;34m**\u001b[0m\u001b[0mkwargs\u001b[0m\u001b[0;34m)\u001b[0m  \u001b[0;31m# type: ignore[misc]\u001b[0m\u001b[0;34m\u001b[0m\u001b[0;34m\u001b[0m\u001b[0m\n\u001b[1;32m   1735\u001b[0m         \u001b[0;32melse\u001b[0m\u001b[0;34m:\u001b[0m\u001b[0;34m\u001b[0m\u001b[0;34m\u001b[0m\u001b[0m\n\u001b[0;32m-> 1736\u001b[0;31m             \u001b[0;32mreturn\u001b[0m \u001b[0mself\u001b[0m\u001b[0;34m.\u001b[0m\u001b[0m_call_impl\u001b[0m\u001b[0;34m(\u001b[0m\u001b[0;34m*\u001b[0m\u001b[0margs\u001b[0m\u001b[0;34m,\u001b[0m \u001b[0;34m**\u001b[0m\u001b[0mkwargs\u001b[0m\u001b[0;34m)\u001b[0m\u001b[0;34m\u001b[0m\u001b[0;34m\u001b[0m\u001b[0m\n\u001b[0m\u001b[1;32m   1737\u001b[0m \u001b[0;34m\u001b[0m\u001b[0m\n\u001b[1;32m   1738\u001b[0m     \u001b[0;31m# torchrec tests the code consistency with the following code\u001b[0m\u001b[0;34m\u001b[0m\u001b[0;34m\u001b[0m\u001b[0m\n",
            "\u001b[0;32m/usr/local/lib/python3.11/dist-packages/torch/nn/modules/module.py\u001b[0m in \u001b[0;36m_call_impl\u001b[0;34m(self, *args, **kwargs)\u001b[0m\n\u001b[1;32m   1745\u001b[0m                 \u001b[0;32mor\u001b[0m \u001b[0m_global_backward_pre_hooks\u001b[0m \u001b[0;32mor\u001b[0m \u001b[0m_global_backward_hooks\u001b[0m\u001b[0;34m\u001b[0m\u001b[0;34m\u001b[0m\u001b[0m\n\u001b[1;32m   1746\u001b[0m                 or _global_forward_hooks or _global_forward_pre_hooks):\n\u001b[0;32m-> 1747\u001b[0;31m             \u001b[0;32mreturn\u001b[0m \u001b[0mforward_call\u001b[0m\u001b[0;34m(\u001b[0m\u001b[0;34m*\u001b[0m\u001b[0margs\u001b[0m\u001b[0;34m,\u001b[0m \u001b[0;34m**\u001b[0m\u001b[0mkwargs\u001b[0m\u001b[0;34m)\u001b[0m\u001b[0;34m\u001b[0m\u001b[0;34m\u001b[0m\u001b[0m\n\u001b[0m\u001b[1;32m   1748\u001b[0m \u001b[0;34m\u001b[0m\u001b[0m\n\u001b[1;32m   1749\u001b[0m         \u001b[0mresult\u001b[0m \u001b[0;34m=\u001b[0m \u001b[0;32mNone\u001b[0m\u001b[0;34m\u001b[0m\u001b[0;34m\u001b[0m\u001b[0m\n",
            "\u001b[0;32m<ipython-input-376-7c4a7a24c1e0>\u001b[0m in \u001b[0;36mforward\u001b[0;34m(self, x, output_attentions)\u001b[0m\n\u001b[1;32m     51\u001b[0m         \u001b[0;31m# Self-attention\u001b[0m\u001b[0;34m\u001b[0m\u001b[0;34m\u001b[0m\u001b[0m\n\u001b[1;32m     52\u001b[0m         \u001b[0mattention_output\u001b[0m\u001b[0;34m,\u001b[0m \u001b[0mattention_probs\u001b[0m \u001b[0;34m=\u001b[0m\u001b[0;31m \u001b[0m\u001b[0;31m\\\u001b[0m\u001b[0;34m\u001b[0m\u001b[0;34m\u001b[0m\u001b[0m\n\u001b[0;32m---> 53\u001b[0;31m             \u001b[0mself\u001b[0m\u001b[0;34m.\u001b[0m\u001b[0mattention\u001b[0m\u001b[0;34m(\u001b[0m\u001b[0mself\u001b[0m\u001b[0;34m.\u001b[0m\u001b[0mlayernorm_1\u001b[0m\u001b[0;34m(\u001b[0m\u001b[0mx\u001b[0m\u001b[0;34m)\u001b[0m\u001b[0;34m,\u001b[0m \u001b[0moutput_attentions\u001b[0m\u001b[0;34m=\u001b[0m\u001b[0moutput_attentions\u001b[0m\u001b[0;34m)\u001b[0m\u001b[0;34m\u001b[0m\u001b[0;34m\u001b[0m\u001b[0m\n\u001b[0m\u001b[1;32m     54\u001b[0m \u001b[0;34m\u001b[0m\u001b[0m\n\u001b[1;32m     55\u001b[0m         \u001b[0;31m# Skip connection\u001b[0m\u001b[0;34m\u001b[0m\u001b[0;34m\u001b[0m\u001b[0m\n",
            "\u001b[0;32m/usr/local/lib/python3.11/dist-packages/torch/nn/modules/module.py\u001b[0m in \u001b[0;36m_wrapped_call_impl\u001b[0;34m(self, *args, **kwargs)\u001b[0m\n\u001b[1;32m   1734\u001b[0m             \u001b[0;32mreturn\u001b[0m \u001b[0mself\u001b[0m\u001b[0;34m.\u001b[0m\u001b[0m_compiled_call_impl\u001b[0m\u001b[0;34m(\u001b[0m\u001b[0;34m*\u001b[0m\u001b[0margs\u001b[0m\u001b[0;34m,\u001b[0m \u001b[0;34m**\u001b[0m\u001b[0mkwargs\u001b[0m\u001b[0;34m)\u001b[0m  \u001b[0;31m# type: ignore[misc]\u001b[0m\u001b[0;34m\u001b[0m\u001b[0;34m\u001b[0m\u001b[0m\n\u001b[1;32m   1735\u001b[0m         \u001b[0;32melse\u001b[0m\u001b[0;34m:\u001b[0m\u001b[0;34m\u001b[0m\u001b[0;34m\u001b[0m\u001b[0m\n\u001b[0;32m-> 1736\u001b[0;31m             \u001b[0;32mreturn\u001b[0m \u001b[0mself\u001b[0m\u001b[0;34m.\u001b[0m\u001b[0m_call_impl\u001b[0m\u001b[0;34m(\u001b[0m\u001b[0;34m*\u001b[0m\u001b[0margs\u001b[0m\u001b[0;34m,\u001b[0m \u001b[0;34m**\u001b[0m\u001b[0mkwargs\u001b[0m\u001b[0;34m)\u001b[0m\u001b[0;34m\u001b[0m\u001b[0;34m\u001b[0m\u001b[0m\n\u001b[0m\u001b[1;32m   1737\u001b[0m \u001b[0;34m\u001b[0m\u001b[0m\n\u001b[1;32m   1738\u001b[0m     \u001b[0;31m# torchrec tests the code consistency with the following code\u001b[0m\u001b[0;34m\u001b[0m\u001b[0;34m\u001b[0m\u001b[0m\n",
            "\u001b[0;32m/usr/local/lib/python3.11/dist-packages/torch/nn/modules/module.py\u001b[0m in \u001b[0;36m_call_impl\u001b[0;34m(self, *args, **kwargs)\u001b[0m\n\u001b[1;32m   1745\u001b[0m                 \u001b[0;32mor\u001b[0m \u001b[0m_global_backward_pre_hooks\u001b[0m \u001b[0;32mor\u001b[0m \u001b[0m_global_backward_hooks\u001b[0m\u001b[0;34m\u001b[0m\u001b[0;34m\u001b[0m\u001b[0m\n\u001b[1;32m   1746\u001b[0m                 or _global_forward_hooks or _global_forward_pre_hooks):\n\u001b[0;32m-> 1747\u001b[0;31m             \u001b[0;32mreturn\u001b[0m \u001b[0mforward_call\u001b[0m\u001b[0;34m(\u001b[0m\u001b[0;34m*\u001b[0m\u001b[0margs\u001b[0m\u001b[0;34m,\u001b[0m \u001b[0;34m**\u001b[0m\u001b[0mkwargs\u001b[0m\u001b[0;34m)\u001b[0m\u001b[0;34m\u001b[0m\u001b[0;34m\u001b[0m\u001b[0m\n\u001b[0m\u001b[1;32m   1748\u001b[0m \u001b[0;34m\u001b[0m\u001b[0m\n\u001b[1;32m   1749\u001b[0m         \u001b[0mresult\u001b[0m \u001b[0;34m=\u001b[0m \u001b[0;32mNone\u001b[0m\u001b[0;34m\u001b[0m\u001b[0;34m\u001b[0m\u001b[0m\n",
            "\u001b[0;32m<ipython-input-369-82c4a2de36d3>\u001b[0m in \u001b[0;36mforward\u001b[0;34m(self, x, mask, output_attentions)\u001b[0m\n\u001b[1;32m     29\u001b[0m \u001b[0;34m\u001b[0m\u001b[0m\n\u001b[1;32m     30\u001b[0m         \u001b[0;31m# Project inputs\u001b[0m\u001b[0;34m\u001b[0m\u001b[0;34m\u001b[0m\u001b[0m\n\u001b[0;32m---> 31\u001b[0;31m         \u001b[0mquery\u001b[0m \u001b[0;34m=\u001b[0m \u001b[0mself\u001b[0m\u001b[0;34m.\u001b[0m\u001b[0mw_q\u001b[0m\u001b[0;34m(\u001b[0m\u001b[0mq\u001b[0m\u001b[0;34m)\u001b[0m\u001b[0;34m\u001b[0m\u001b[0;34m\u001b[0m\u001b[0m\n\u001b[0m\u001b[1;32m     32\u001b[0m         \u001b[0mkey\u001b[0m \u001b[0;34m=\u001b[0m \u001b[0mself\u001b[0m\u001b[0;34m.\u001b[0m\u001b[0mw_k\u001b[0m\u001b[0;34m(\u001b[0m\u001b[0mk\u001b[0m\u001b[0;34m)\u001b[0m\u001b[0;34m\u001b[0m\u001b[0;34m\u001b[0m\u001b[0m\n\u001b[1;32m     33\u001b[0m         \u001b[0mvalue\u001b[0m \u001b[0;34m=\u001b[0m \u001b[0mself\u001b[0m\u001b[0;34m.\u001b[0m\u001b[0mw_v\u001b[0m\u001b[0;34m(\u001b[0m\u001b[0mv\u001b[0m\u001b[0;34m)\u001b[0m\u001b[0;34m\u001b[0m\u001b[0;34m\u001b[0m\u001b[0m\n",
            "\u001b[0;32m/usr/local/lib/python3.11/dist-packages/torch/nn/modules/module.py\u001b[0m in \u001b[0;36m_wrapped_call_impl\u001b[0;34m(self, *args, **kwargs)\u001b[0m\n\u001b[1;32m   1734\u001b[0m             \u001b[0;32mreturn\u001b[0m \u001b[0mself\u001b[0m\u001b[0;34m.\u001b[0m\u001b[0m_compiled_call_impl\u001b[0m\u001b[0;34m(\u001b[0m\u001b[0;34m*\u001b[0m\u001b[0margs\u001b[0m\u001b[0;34m,\u001b[0m \u001b[0;34m**\u001b[0m\u001b[0mkwargs\u001b[0m\u001b[0;34m)\u001b[0m  \u001b[0;31m# type: ignore[misc]\u001b[0m\u001b[0;34m\u001b[0m\u001b[0;34m\u001b[0m\u001b[0m\n\u001b[1;32m   1735\u001b[0m         \u001b[0;32melse\u001b[0m\u001b[0;34m:\u001b[0m\u001b[0;34m\u001b[0m\u001b[0;34m\u001b[0m\u001b[0m\n\u001b[0;32m-> 1736\u001b[0;31m             \u001b[0;32mreturn\u001b[0m \u001b[0mself\u001b[0m\u001b[0;34m.\u001b[0m\u001b[0m_call_impl\u001b[0m\u001b[0;34m(\u001b[0m\u001b[0;34m*\u001b[0m\u001b[0margs\u001b[0m\u001b[0;34m,\u001b[0m \u001b[0;34m**\u001b[0m\u001b[0mkwargs\u001b[0m\u001b[0;34m)\u001b[0m\u001b[0;34m\u001b[0m\u001b[0;34m\u001b[0m\u001b[0m\n\u001b[0m\u001b[1;32m   1737\u001b[0m \u001b[0;34m\u001b[0m\u001b[0m\n\u001b[1;32m   1738\u001b[0m     \u001b[0;31m# torchrec tests the code consistency with the following code\u001b[0m\u001b[0;34m\u001b[0m\u001b[0;34m\u001b[0m\u001b[0m\n",
            "\u001b[0;32m/usr/local/lib/python3.11/dist-packages/torch/nn/modules/module.py\u001b[0m in \u001b[0;36m_call_impl\u001b[0;34m(self, *args, **kwargs)\u001b[0m\n\u001b[1;32m   1745\u001b[0m                 \u001b[0;32mor\u001b[0m \u001b[0m_global_backward_pre_hooks\u001b[0m \u001b[0;32mor\u001b[0m \u001b[0m_global_backward_hooks\u001b[0m\u001b[0;34m\u001b[0m\u001b[0;34m\u001b[0m\u001b[0m\n\u001b[1;32m   1746\u001b[0m                 or _global_forward_hooks or _global_forward_pre_hooks):\n\u001b[0;32m-> 1747\u001b[0;31m             \u001b[0;32mreturn\u001b[0m \u001b[0mforward_call\u001b[0m\u001b[0;34m(\u001b[0m\u001b[0;34m*\u001b[0m\u001b[0margs\u001b[0m\u001b[0;34m,\u001b[0m \u001b[0;34m**\u001b[0m\u001b[0mkwargs\u001b[0m\u001b[0;34m)\u001b[0m\u001b[0;34m\u001b[0m\u001b[0;34m\u001b[0m\u001b[0m\n\u001b[0m\u001b[1;32m   1748\u001b[0m \u001b[0;34m\u001b[0m\u001b[0m\n\u001b[1;32m   1749\u001b[0m         \u001b[0mresult\u001b[0m \u001b[0;34m=\u001b[0m \u001b[0;32mNone\u001b[0m\u001b[0;34m\u001b[0m\u001b[0;34m\u001b[0m\u001b[0m\n",
            "\u001b[0;32m/usr/local/lib/python3.11/dist-packages/torch/nn/modules/linear.py\u001b[0m in \u001b[0;36mforward\u001b[0;34m(self, input)\u001b[0m\n\u001b[1;32m    123\u001b[0m \u001b[0;34m\u001b[0m\u001b[0m\n\u001b[1;32m    124\u001b[0m     \u001b[0;32mdef\u001b[0m \u001b[0mforward\u001b[0m\u001b[0;34m(\u001b[0m\u001b[0mself\u001b[0m\u001b[0;34m,\u001b[0m \u001b[0minput\u001b[0m\u001b[0;34m:\u001b[0m \u001b[0mTensor\u001b[0m\u001b[0;34m)\u001b[0m \u001b[0;34m->\u001b[0m \u001b[0mTensor\u001b[0m\u001b[0;34m:\u001b[0m\u001b[0;34m\u001b[0m\u001b[0;34m\u001b[0m\u001b[0m\n\u001b[0;32m--> 125\u001b[0;31m         \u001b[0;32mreturn\u001b[0m \u001b[0mF\u001b[0m\u001b[0;34m.\u001b[0m\u001b[0mlinear\u001b[0m\u001b[0;34m(\u001b[0m\u001b[0minput\u001b[0m\u001b[0;34m,\u001b[0m \u001b[0mself\u001b[0m\u001b[0;34m.\u001b[0m\u001b[0mweight\u001b[0m\u001b[0;34m,\u001b[0m \u001b[0mself\u001b[0m\u001b[0;34m.\u001b[0m\u001b[0mbias\u001b[0m\u001b[0;34m)\u001b[0m\u001b[0;34m\u001b[0m\u001b[0;34m\u001b[0m\u001b[0m\n\u001b[0m\u001b[1;32m    126\u001b[0m \u001b[0;34m\u001b[0m\u001b[0m\n\u001b[1;32m    127\u001b[0m     \u001b[0;32mdef\u001b[0m \u001b[0mextra_repr\u001b[0m\u001b[0;34m(\u001b[0m\u001b[0mself\u001b[0m\u001b[0;34m)\u001b[0m \u001b[0;34m->\u001b[0m \u001b[0mstr\u001b[0m\u001b[0;34m:\u001b[0m\u001b[0;34m\u001b[0m\u001b[0;34m\u001b[0m\u001b[0m\n",
            "\u001b[0;31mKeyboardInterrupt\u001b[0m: "
          ]
        }
      ]
    },
    {
      "cell_type": "code",
      "source": [
        "model = CLIP(emb_dim, vit_layers, vit_d_model, img_size,patch_size,n_channels, vit_heads, vocab_size, max_seq_length, text_heads, text_layers,text_d_model,retrieval = False).to(device)\n",
        "\n",
        "model.load_state_dict(torch.load(\"clip.pt\", map_location=device))\n",
        "\n",
        "text = torch.stack([tokenizer(x)[0] for x in val_dataset.captions.values()]).to(device)\n",
        "\n",
        "mask = torch.stack([tokenizer(x)[1] for x in val_dataset.captions.values()])\n",
        "mask = mask.repeat(1,len(mask[0])).reshape(len(mask),len(mask[0]),len(mask[0])).to(device)\n",
        "\n",
        "correct, total = 0,0\n",
        "with torch.no_grad():\n",
        "    for data in val_loader:\n",
        "\n",
        "        images, labels = data[\"image\"].to(device), data[\"caption\"].to(device)\n",
        "        image_features = model.vision_encoder(images)\n",
        "        text_features = model.text_encoder(text, mask=mask)\n",
        "\n",
        "        image_features /= image_features.norm(dim=-1, keepdim=True)\n",
        "        text_features /= text_features.norm(dim=-1, keepdim=True)\n",
        "        similarity = (100.0 * image_features @ text_features.T).softmax(dim=-1)\n",
        "        _, indices = torch.max(similarity,1)\n",
        "\n",
        "        pred = torch.stack([tokenizer(val_dataset.captions[int(i)])[0] for i in indices]).to(device)\n",
        "        correct += int(sum(torch.sum((pred==labels),dim=1)//len(pred[0])))\n",
        "\n",
        "        total += len(labels)\n",
        "\n",
        "print(f'\\nModel Accuracy: {100 * correct // total} %')"
      ],
      "metadata": {
        "colab": {
          "base_uri": "https://localhost:8080/"
        },
        "id": "6tpgMkZ1n3XU",
        "outputId": "082942eb-e67a-4deb-8da6-c7b4a2d3cce8"
      },
      "execution_count": null,
      "outputs": [
        {
          "output_type": "stream",
          "name": "stdout",
          "text": [
            "Number of patches: 256, Expected tokens with CLS: 257\n",
            "\n",
            "Model Accuracy: 81 %\n"
          ]
        }
      ]
    },
    {
      "cell_type": "code",
      "source": [
        "dx = 904\n",
        "\n",
        "\n",
        "img = val_dataset[idx][\"image\"][None,:]\n",
        "plt.imshow(img[0].permute(1, 2, 0)  ,cmap=\"gray\")\n",
        "plt.title(tokenizer(val_dataset[idx][\"caption\"], encode=False, mask=val_dataset[idx][\"mask\"][0])[0])\n",
        "plt.show()\n",
        "img = img.to(device)\n",
        "with torch.no_grad():\n",
        "  image_features = model.vision_encoder(img)\n",
        "  text_features = model.text_encoder(text, mask=mask)\n",
        "\n",
        "\n",
        "image_features /= image_features.norm(dim=-1, keepdim=True)\n",
        "text_features /= text_features.norm(dim=-1, keepdim=True)\n",
        "similarity = (100.0 * image_features @ text_features.T).softmax(dim=-1)\n",
        "values, indices = similarity[0].topk(5)\n",
        "\n",
        "# Print the result\n",
        "print(\"\\nTop predictions:\\n\")\n",
        "for value, index in zip(values, indices):\n",
        "    print(f\"{class_names[int(index)]:>16s}: {100 * value.item():.2f}%\")"
      ],
      "metadata": {
        "colab": {
          "base_uri": "https://localhost:8080/",
          "height": 604
        },
        "id": "GhYl3EtACR6W",
        "outputId": "ff85141f-733f-4ea3-9c97-3e20ff4e8110"
      },
      "execution_count": null,
      "outputs": [
        {
          "output_type": "display_data",
          "data": {
            "text/plain": [
              "<Figure size 640x480 with 1 Axes>"
            ],
            "image/png": "[encoded data removed]"
          },
          "metadata": {}
        },
        {
          "output_type": "stream",
          "name": "stdout",
          "text": [
            "\n",
            "Top predictions:\n",
            "\n",
            "           socks: 100.00%\n",
            "          gloves: 0.00%\n",
            "        mufflers: 0.00%\n",
            "          stoles: 0.00%\n",
            "loungewear and nightwear: 0.00%\n"
          ]
        }
      ]
    },
    {
      "cell_type": "code",
      "source": [],
      "metadata": {
        "id": "-MpXqQEbCtQQ"
      },
      "execution_count": null,
      "outputs": []
    }
  ],
  "metadata": {
    "accelerator": "GPU",
    "colab": {
      "gpuType": "T4",
      "provenance": [],
      "toc_visible": true
    },
    "kernelspec": {
      "display_name": "Python 3",
      "name": "python3"
    },
    "language_info": {
      "name": "python"
    }
  },
  "nbformat": 4,
  "nbformat_minor": 0
}